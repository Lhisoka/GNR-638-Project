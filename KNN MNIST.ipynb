{
 "cells": [
  {
   "cell_type": "code",
   "execution_count": 1,
   "metadata": {
    "executionInfo": {
     "elapsed": 1145,
     "status": "ok",
     "timestamp": 1637566743450,
     "user": {
      "displayName": "Sahasra Ranjan",
      "photoUrl": "https://lh3.googleusercontent.com/a/default-user=s64",
      "userId": "00478624983817383142"
     },
     "user_tz": -330
    },
    "id": "yvsJAZwzCbtd"
   },
   "outputs": [],
   "source": [
    "import time\n",
    "import torch\n",
    "import torchvision\n",
    "import torchvision.transforms as transforms"
   ]
  },
  {
   "cell_type": "code",
   "execution_count": 2,
   "metadata": {
    "colab": {
     "base_uri": "https://localhost:8080/"
    },
    "executionInfo": {
     "elapsed": 16,
     "status": "ok",
     "timestamp": 1637566743451,
     "user": {
      "displayName": "Sahasra Ranjan",
      "photoUrl": "https://lh3.googleusercontent.com/a/default-user=s64",
      "userId": "00478624983817383142"
     },
     "user_tz": -330
    },
    "id": "f6WBST8CCepW",
    "outputId": "c7cf3a5b-42b0-4f1a-c127-d1b009b7f4ab"
   },
   "outputs": [
    {
     "name": "stdout",
     "output_type": "stream",
     "text": [
      "Drive already mounted at /content/drive; to attempt to forcibly remount, call drive.mount(\"/content/drive\", force_remount=True).\n"
     ]
    }
   ],
   "source": [
    "from google.colab import drive\n",
    "drive.mount('/content/drive')"
   ]
  },
  {
   "cell_type": "code",
   "execution_count": 3,
   "metadata": {
    "colab": {
     "base_uri": "https://localhost:8080/"
    },
    "executionInfo": {
     "elapsed": 12,
     "status": "ok",
     "timestamp": 1637566743451,
     "user": {
      "displayName": "Sahasra Ranjan",
      "photoUrl": "https://lh3.googleusercontent.com/a/default-user=s64",
      "userId": "00478624983817383142"
     },
     "user_tz": -330
    },
    "id": "JbwZ4FvgCgdu",
    "outputId": "dc559bd5-9547-4661-bfb5-eae2d9d3fbf3"
   },
   "outputs": [
    {
     "name": "stdout",
     "output_type": "stream",
     "text": [
      "/content/drive/MyDrive/sem5/gnr\n"
     ]
    }
   ],
   "source": [
    "%cd /content/drive/MyDrive/sem5/gnr/"
   ]
  },
  {
   "cell_type": "code",
   "execution_count": 4,
   "metadata": {
    "executionInfo": {
     "elapsed": 7,
     "status": "ok",
     "timestamp": 1637566743452,
     "user": {
      "displayName": "Sahasra Ranjan",
      "photoUrl": "https://lh3.googleusercontent.com/a/default-user=s64",
      "userId": "00478624983817383142"
     },
     "user_tz": -330
    },
    "id": "iyrvRzw-CrJR"
   },
   "outputs": [],
   "source": [
    "from kervolution import *\n",
    "from tools import *"
   ]
  },
  {
   "cell_type": "code",
   "execution_count": 5,
   "metadata": {
    "executionInfo": {
     "elapsed": 7,
     "status": "ok",
     "timestamp": 1637566743453,
     "user": {
      "displayName": "Sahasra Ranjan",
      "photoUrl": "https://lh3.googleusercontent.com/a/default-user=s64",
      "userId": "00478624983817383142"
     },
     "user_tz": -330
    },
    "id": "DJ6AryzVDDJd"
   },
   "outputs": [],
   "source": [
    "device = torch.device('cuda' if torch.cuda.is_available() else 'cpu')"
   ]
  },
  {
   "cell_type": "code",
   "execution_count": 6,
   "metadata": {
    "colab": {
     "base_uri": "https://localhost:8080/"
    },
    "executionInfo": {
     "elapsed": 766,
     "status": "ok",
     "timestamp": 1637566744213,
     "user": {
      "displayName": "Sahasra Ranjan",
      "photoUrl": "https://lh3.googleusercontent.com/a/default-user=s64",
      "userId": "00478624983817383142"
     },
     "user_tz": -330
    },
    "id": "Nxx_fnuGCbth",
    "outputId": "67fe0e1e-78df-41a5-c447-4da65efe8e4e"
   },
   "outputs": [
    {
     "data": {
      "text/plain": [
       "['0', '1', '2', '3', '4', '5', '6', '7', '8', '9']"
      ]
     },
     "execution_count": 6,
     "metadata": {},
     "output_type": "execute_result"
    }
   ],
   "source": [
    "transform = transforms.Compose([transforms.ToTensor(), transforms.Normalize((0.5,), (0.5,)),])\n",
    "\n",
    "batch_size = 8\n",
    "\n",
    "trainset = torchvision.datasets.MNIST(root='./data', train=True,\n",
    "                                        download=True, transform=transform)\n",
    "trainloader = torch.utils.data.DataLoader(trainset, batch_size=batch_size,\n",
    "                                          shuffle=True, num_workers=2)\n",
    "\n",
    "testset = torchvision.datasets.MNIST(root='./data', train=False,\n",
    "                                       download=True, transform=transform)\n",
    "testloader = torch.utils.data.DataLoader(testset, batch_size=batch_size,\n",
    "                                         shuffle=False, num_workers=2)\n",
    "\n",
    "# classes = ('plane', 'car', 'bird', 'cat',\n",
    "#            'deer', 'dog', 'frog', 'horse', 'ship', 'truck')\n",
    "classes = [str(x) for x in range(10)]\n",
    "classes"
   ]
  },
  {
   "cell_type": "code",
   "execution_count": 7,
   "metadata": {
    "colab": {
     "base_uri": "https://localhost:8080/",
     "height": 95
    },
    "executionInfo": {
     "elapsed": 15,
     "status": "ok",
     "timestamp": 1637566744214,
     "user": {
      "displayName": "Sahasra Ranjan",
      "photoUrl": "https://lh3.googleusercontent.com/a/default-user=s64",
      "userId": "00478624983817383142"
     },
     "user_tz": -330
    },
    "id": "tSL-11W4Cbti",
    "outputId": "49583497-b139-4e94-fc29-0335d21903ab"
   },
   "outputs": [
    {
     "data": {
      "image/png": "[encoded data removed]",
      "text/plain": [
       "<Figure size 432x288 with 1 Axes>"
      ]
     },
     "metadata": {
      "needs_background": "light"
     },
     "output_type": "display_data"
    }
   ],
   "source": [
    "import matplotlib.pyplot as plt\n",
    "import numpy as np\n",
    "\n",
    "# functions to show an image\n",
    "\n",
    "def imshow(img):\n",
    "    img = img / 2 + 0.5     # unnormalize\n",
    "    npimg = img.numpy()\n",
    "    plt.imshow(np.transpose(npimg, (1, 2, 0)))\n",
    "    plt.show()\n",
    "\n",
    "\n",
    "# get some random training images\n",
    "dataiter = iter(trainloader)\n",
    "images, labels = dataiter.next()\n",
    "\n",
    "# show images\n",
    "imshow(torchvision.utils.make_grid(images))"
   ]
  },
  {
   "cell_type": "code",
   "execution_count": 8,
   "metadata": {
    "colab": {
     "base_uri": "https://localhost:8080/"
    },
    "executionInfo": {
     "elapsed": 12,
     "status": "ok",
     "timestamp": 1637566744214,
     "user": {
      "displayName": "Sahasra Ranjan",
      "photoUrl": "https://lh3.googleusercontent.com/a/default-user=s64",
      "userId": "00478624983817383142"
     },
     "user_tz": -330
    },
    "id": "gQsPxquvi770",
    "outputId": "87911e47-0411-4168-b5c8-e622c20a1579"
   },
   "outputs": [
    {
     "name": "stdout",
     "output_type": "stream",
     "text": [
      "cifar_net.pth  data  kervolution.py  multikerv.py  __pycache__\ttools.py\n"
     ]
    }
   ],
   "source": [
    "!ls"
   ]
  },
  {
   "cell_type": "code",
   "execution_count": 9,
   "metadata": {
    "executionInfo": {
     "elapsed": 2563,
     "status": "ok",
     "timestamp": 1637566746772,
     "user": {
      "displayName": "Sahasra Ranjan",
      "photoUrl": "https://lh3.googleusercontent.com/a/default-user=s64",
      "userId": "00478624983817383142"
     },
     "user_tz": -330
    },
    "id": "gzVgBVwMCbtk"
   },
   "outputs": [],
   "source": [
    "import torch.nn as nn\n",
    "import torch.nn.functional as F\n",
    "from kervolution import *\n",
    "from tools import *\n",
    "\n",
    "class LeNet(nn.Module):\n",
    "    def __init__(self):\n",
    "        super(LeNet,self).__init__()\n",
    "        self.conv1 = Kerv2d(in_channels=1,out_channels=6,kernel_size=(5,5),padding=0,stride=1)\n",
    "        self.conv2 = Kerv2d(in_channels = 6, out_channels = 16,kernel_size = (5,5),padding=0,stride=1)\n",
    "        self.conv3 = Kerv2d(in_channels = 16, out_channels = 120,kernel_size = (4,4),padding=0,stride=1)\n",
    "        self.L1 = nn.Linear(120,84)\n",
    "        self.L2 = nn.Linear(84,10)\n",
    "        self.pool = nn.AvgPool2d(kernel_size = 2, stride = 2)\n",
    "        self.act = nn.Tanh()\n",
    "        \n",
    "    def forward(self,x):\n",
    "        x = self.conv1(x)\n",
    "        x = self.act(x)\n",
    "        x = self.pool(x)\n",
    "        x = self.conv2(x)\n",
    "        x = self.act(x)\n",
    "        x = self.pool(x)\n",
    "        x = self.conv3(x)\n",
    "        x = self.act(x)    \n",
    "        x = x.view(x.size()[0], -1)\n",
    "        x = self.L1(x)\n",
    "        x = self.act(x)\n",
    "        x = self.L2(x)\n",
    "        return x\n",
    "\n",
    "\n",
    "net = LeNet().to(device)\n",
    "# net.load_state_dict(torch.load(PATH))"
   ]
  },
  {
   "cell_type": "code",
   "execution_count": 10,
   "metadata": {
    "executionInfo": {
     "elapsed": 7,
     "status": "ok",
     "timestamp": 1637566746773,
     "user": {
      "displayName": "Sahasra Ranjan",
      "photoUrl": "https://lh3.googleusercontent.com/a/default-user=s64",
      "userId": "00478624983817383142"
     },
     "user_tz": -330
    },
    "id": "OnoCh1SLCbtl"
   },
   "outputs": [],
   "source": [
    "import torch.optim as optim\n",
    "\n",
    "criterion = nn.CrossEntropyLoss()\n",
    "optimizer = optim.SGD(net.parameters(), lr=0.001, momentum=0.9)"
   ]
  },
  {
   "cell_type": "code",
   "execution_count": 11,
   "metadata": {
    "colab": {
     "base_uri": "https://localhost:8080/"
    },
    "executionInfo": {
     "elapsed": 5,
     "status": "ok",
     "timestamp": 1637566746773,
     "user": {
      "displayName": "Sahasra Ranjan",
      "photoUrl": "https://lh3.googleusercontent.com/a/default-user=s64",
      "userId": "00478624983817383142"
     },
     "user_tz": -330
    },
    "id": "x8JTTFcxHjkC",
    "outputId": "531c9ad1-2d71-49c8-8248-0cb06b3c4681"
   },
   "outputs": [
    {
     "name": "stdout",
     "output_type": "stream",
     "text": [
      "torch.Size([8, 1, 28, 28])\n"
     ]
    }
   ],
   "source": [
    "print(images.shape)"
   ]
  },
  {
   "cell_type": "code",
   "execution_count": 12,
   "metadata": {
    "colab": {
     "base_uri": "https://localhost:8080/"
    },
    "executionInfo": {
     "elapsed": 108655,
     "status": "ok",
     "timestamp": 1637566855425,
     "user": {
      "displayName": "Sahasra Ranjan",
      "photoUrl": "https://lh3.googleusercontent.com/a/default-user=s64",
      "userId": "00478624983817383142"
     },
     "user_tz": -330
    },
    "id": "0MFR7Gd6Cbtm",
    "outputId": "e519c625-db78-44fe-d388-484b6cc89ce7"
   },
   "outputs": [
    {
     "name": "stdout",
     "output_type": "stream",
     "text": [
      "[1,  2000] loss: 1.188, time: 14.644\n",
      "[1,  4000] loss: 0.334, time: 29.012\n",
      "[1,  6000] loss: 0.241, time: 43.383\n",
      "[2,  2000] loss: 0.146, time: 14.468\n",
      "[2,  4000] loss: 0.135, time: 29.034\n",
      "[2,  6000] loss: 0.121, time: 43.444\n",
      "Finished Training\n"
     ]
    }
   ],
   "source": [
    "for epoch in range(2):  # loop over the dataset multiple times\n",
    "    start_time = time.time()\n",
    "    running_loss = 0.0\n",
    "    for i, data in enumerate(trainloader, 0):\n",
    "        # get the inputs; data is a list of [inputs, labels]\n",
    "        inputs, labels = data\n",
    "        inputs = inputs.to(device)\n",
    "        labels = labels.to(device)\n",
    "\n",
    "        # zero the parameter gradients\n",
    "        optimizer.zero_grad()\n",
    "\n",
    "        # forward + backward + optimize\n",
    "        outputs = net(inputs)\n",
    "        loss = criterion(outputs, labels)\n",
    "        loss.backward()\n",
    "        optimizer.step()\n",
    "\n",
    "        running_loss += loss.item()\n",
    "        if i % 2000 == 1999:    # print every 2000 mini-batches\n",
    "            print('[%d, %5d] loss: %.3f, time: %.3f' %\n",
    "                  (epoch + 1, i + 1, running_loss / 2000, time.time() - start_time))\n",
    "            running_loss = 0.0\n",
    "\n",
    "print('Finished Training')"
   ]
  },
  {
   "cell_type": "code",
   "execution_count": 13,
   "metadata": {
    "executionInfo": {
     "elapsed": 10,
     "status": "ok",
     "timestamp": 1637566855426,
     "user": {
      "displayName": "Sahasra Ranjan",
      "photoUrl": "https://lh3.googleusercontent.com/a/default-user=s64",
      "userId": "00478624983817383142"
     },
     "user_tz": -330
    },
    "id": "zpTF-QjnCbtm"
   },
   "outputs": [],
   "source": [
    "PATH = './cifar_net.pth'\n",
    "torch.save(net.state_dict(), PATH)"
   ]
  },
  {
   "cell_type": "code",
   "execution_count": 14,
   "metadata": {
    "executionInfo": {
     "elapsed": 8,
     "status": "ok",
     "timestamp": 1637566855427,
     "user": {
      "displayName": "Sahasra Ranjan",
      "photoUrl": "https://lh3.googleusercontent.com/a/default-user=s64",
      "userId": "00478624983817383142"
     },
     "user_tz": -330
    },
    "id": "eg7428wJCbtn"
   },
   "outputs": [],
   "source": [
    "net = LeNet()\n",
    "net.load_state_dict(torch.load(PATH))\n",
    "net = net.to(device)\n",
    "images = images.to(device)"
   ]
  },
  {
   "cell_type": "code",
   "execution_count": 15,
   "metadata": {
    "colab": {
     "base_uri": "https://localhost:8080/"
    },
    "executionInfo": {
     "elapsed": 6391,
     "status": "ok",
     "timestamp": 1637566861810,
     "user": {
      "displayName": "Sahasra Ranjan",
      "photoUrl": "https://lh3.googleusercontent.com/a/default-user=s64",
      "userId": "00478624983817383142"
     },
     "user_tz": -330
    },
    "id": "a76o5PCiCbto",
    "outputId": "e3dfac15-a816-4878-9edb-e9c8f43189f7",
    "scrolled": true
   },
   "outputs": [
    {
     "name": "stdout",
     "output_type": "stream",
     "text": [
      "Accuracy of the network on the 10000 test images: 97 %\n"
     ]
    }
   ],
   "source": [
    "correct = 0\n",
    "total = 0\n",
    "# since we're not training, we don't need to calculate the gradients for our outputs\n",
    "with torch.no_grad():\n",
    "    for data in testloader:\n",
    "        images, labels = data\n",
    "        images = images.to(device)\n",
    "        labels = labels.to(device)\n",
    "        # calculate outputs by running images through the network \n",
    "        outputs = net(images)\n",
    "        # the class with the highest energy is what we choose as prediction\n",
    "        _, predicted = torch.max(outputs.data, 1)\n",
    "        total += labels.size(0)\n",
    "        correct += (predicted == labels).sum().item()\n",
    "\n",
    "print('Accuracy of the network on the 10000 test images: %d %%' % (\n",
    "    100 * correct / total))"
   ]
  },
  {
   "cell_type": "code",
   "execution_count": 16,
   "metadata": {
    "colab": {
     "base_uri": "https://localhost:8080/"
    },
    "executionInfo": {
     "elapsed": 5778,
     "status": "ok",
     "timestamp": 1637566867584,
     "user": {
      "displayName": "Sahasra Ranjan",
      "photoUrl": "https://lh3.googleusercontent.com/a/default-user=s64",
      "userId": "00478624983817383142"
     },
     "user_tz": -330
    },
    "id": "1Ru0yboOCbtp",
    "outputId": "996656e3-7279-448b-8044-738031027da4"
   },
   "outputs": [
    {
     "name": "stdout",
     "output_type": "stream",
     "text": [
      "Accuracy for class 0     is: 98.7 %\n",
      "Accuracy for class 1     is: 99.0 %\n",
      "Accuracy for class 2     is: 98.0 %\n",
      "Accuracy for class 3     is: 97.5 %\n",
      "Accuracy for class 4     is: 94.9 %\n",
      "Accuracy for class 5     is: 95.2 %\n",
      "Accuracy for class 6     is: 96.9 %\n",
      "Accuracy for class 7     is: 97.4 %\n",
      "Accuracy for class 8     is: 97.7 %\n",
      "Accuracy for class 9     is: 94.3 %\n"
     ]
    }
   ],
   "source": [
    "# prepare to count predictions for each class\n",
    "correct_pred = {classname: 0 for classname in classes}\n",
    "total_pred = {classname: 0 for classname in classes}\n",
    "\n",
    "# again no gradients needed\n",
    "with torch.no_grad():\n",
    "    for data in testloader:\n",
    "        images, labels = data\n",
    "        images = images.to(device)\n",
    "        labels = labels.to(device)    \n",
    "        outputs = net(images)    \n",
    "        _, predictions = torch.max(outputs, 1)\n",
    "        # collect the correct predictions for each class\n",
    "        for label, prediction in zip(labels, predictions):\n",
    "            if label == prediction:\n",
    "                correct_pred[classes[label]] += 1\n",
    "            total_pred[classes[label]] += 1\n",
    "\n",
    "  \n",
    "# print accuracy for each class\n",
    "for classname, correct_count in correct_pred.items():\n",
    "    accuracy = 100 * float(correct_count) / total_pred[classname]\n",
    "    print(\"Accuracy for class {:5s} is: {:.1f} %\".format(classname, \n",
    "                                                   accuracy))"
   ]
  },
  {
   "cell_type": "code",
   "execution_count": 16,
   "metadata": {
    "executionInfo": {
     "elapsed": 552,
     "status": "ok",
     "timestamp": 1637566868132,
     "user": {
      "displayName": "Sahasra Ranjan",
      "photoUrl": "https://lh3.googleusercontent.com/a/default-user=s64",
      "userId": "00478624983817383142"
     },
     "user_tz": -330
    },
    "id": "rLpdQC9phd5P"
   },
   "outputs": [],
   "source": []
  }
 ],
 "metadata": {
  "accelerator": "GPU",
  "colab": {
   "collapsed_sections": [],
   "name": "cifar10_tutorial.ipynb",
   "provenance": []
  },
  "kernelspec": {
   "display_name": "Python 3",
   "language": "python",
   "name": "python3"
  },
  "language_info": {
   "codemirror_mode": {
    "name": "ipython",
    "version": 3
   },
   "file_extension": ".py",
   "mimetype": "text/x-python",
   "name": "python",
   "nbconvert_exporter": "python",
   "pygments_lexer": "ipython3",
   "version": "3.8.8"
  }
 },
 "nbformat": 4,
 "nbformat_minor": 1
}
